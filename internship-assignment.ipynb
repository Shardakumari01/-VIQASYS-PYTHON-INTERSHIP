{
 "cells": [
  {
   "cell_type": "markdown",
   "metadata": {},
   "source": [
    "___\n",
    "\n",
    "<a href='https://viqasys.com/wp-content/uploads/2021/07/ns1.png'><img src='https://viqasys.com/wp-content/uploads/2021/07/ns1.png'/></a>\n",
    "___\n",
    "<center><em>Content Copyright VIQASYS INNOVATIONS PVT LTD.</em></center>\n",
    "\n",
    "# Assignment 1"
   ]
  },
  {
   "cell_type": "markdown",
   "metadata": {},
   "source": [
    "# Question 1\n",
    "\n",
    "In the below elements, identify which of them are values or expressions. Values can be integers or strings, while expressions will be mathematical operators or combinations thereof.\n",
    "'hello', \n",
    "-87., ), o, lu, alu, ssion)'(Value))str\" (Value)"
   ]
  },
  {
   "cell_type": "code",
   "execution_count": 3,
   "metadata": {},
   "outputs": [
    {
     "ename": "SyntaxError",
     "evalue": "invalid syntax (231214397.py, line 1)",
     "output_type": "error",
     "traceback": [
      "\u001b[1;36m  Cell \u001b[1;32mIn[3], line 1\u001b[1;36m\u001b[0m\n\u001b[1;33m    Values:\u001b[0m\n\u001b[1;37m           ^\u001b[0m\n\u001b[1;31mSyntaxError\u001b[0m\u001b[1;31m:\u001b[0m invalid syntax\n"
     ]
    }
   ],
   "source": [
    "Values:\n",
    "\n",
    "'hello' (string value)\n",
    "-87. (floating-point number value)\n",
    "')(Value))str' (string value)\n",
    "Expressions:\n",
    "\n",
    "(subtraction operator)\n",
    "')' (closing parenthesis)\n",
    "o (seems like a variable or symbol, not a defined operator)\n",
    "lu (seems like a variable or symbol, not a defined operator)\n",
    "alu (seems like a variable or symbol, not a defined operator)\n",
    "ssion (seems like a variable or symbol, not a defined operator)"
   ]
  },
  {
   "cell_type": "markdown",
   "metadata": {},
   "source": [
    "## Question 2\n",
    "\n",
    "Explain the difference between a string and a variable.\n"
   ]
  },
  {
   "cell_type": "code",
   "execution_count": null,
   "metadata": {},
   "outputs": [],
   "source": [
    "(String):\n",
    "\n",
    "1. A string is a data type used to represent textual data in programming. It consists of a sequence of characters, such as letters, digits, symbols, or whitespace, enclosed within quotation marks (either single (' ') or double (\" \")).\n",
    "2. Strings can contain any combination of characters, including letters, numbers, punctuation marks, and special symbols.\n",
    "3. Examples of strings: \"hello\", \"123\", \"Programming is fun!\", etc.\n",
    "4. Strings are immutable in many programming languages, meaning that once created, their value cannot be changed. However, in some languages, there are methods or functions that allow manipulation of strings without changing the original string itself.\n",
    "\n",
    "(Variable):\n",
    "\n",
    "1. A variable is a symbolic name that represents a storage location in computer memory where data can be stored, retrieved, or manipulated during the execution of a program.\n",
    "2. Variables are used to store different types of data, such as numbers, strings, or objects, and they provide a way to refer to and work with this data within a program.\n",
    "3. Unlike strings, which represent specific values or data, variables serve as placeholders or containers for storing values of various types.\n",
    "4. Variables have a name (identifier) and a data type associated with them, which determines the kind of data that can be stored in the variable.\n",
    "5. Examples of variables: x, age, name, etc.\n",
    "6. Variables can hold different values at different points in time during program execution, and their values can be changed or reassigned as needed."
   ]
  },
  {
   "cell_type": "markdown",
   "metadata": {},
   "source": [
    "## Question 3\n",
    "Describe three different data types commonly used in programming"
   ]
  },
  {
   "cell_type": "code",
   "execution_count": null,
   "metadata": {},
   "outputs": [],
   "source": [
    "1. Integer (int):\n",
    "\n",
    " * Integers represent whole numbers, both positive and negative, without any decimal or fractional parts.\n",
    " * Examples of integers: -10, 0, 42, 1001, etc.\n",
    "    \n",
    "2. String (str):\n",
    "\n",
    " * Strings represent sequences of characters, such as letters, digits, symbols, or whitespace, enclosed within quotation marks (either single (' ') or double (\" \")).\n",
    " * Examples of strings: \"hello\", \"123\", \"Programming is fun!\", etc.\n",
    "\n",
    "3. Floating-point (float):\n",
    "\n",
    " * Floating-point numbers represent real numbers with a fractional part. They are used when precise decimal values are required, such as in scientific computations or when dealing with measurements.\n",
    " * Examples of floating-point numbers: -3.14, 0.0, 2.71828, 6.022e23 (scientific notation), etc."
   ]
  },
  {
   "cell_type": "markdown",
   "metadata": {},
   "source": [
    "## Question 4\n",
    "What is an expression made up of? What is the general purpose of expressions?\n"
   ]
  },
  {
   "cell_type": "code",
   "execution_count": null,
   "metadata": {},
   "outputs": [],
   "source": [
    " * An expression in programming is made up of operands and operators. Here's a breakdown:\n",
    "\n",
    "1.Operands:\n",
    "\n",
    "Operands are the values or variables operated on by the operators.\n",
    "They can be constants (such as numbers or strings) or variables (representing values stored in memory).\n",
    "\n",
    "2.Operators:\n",
    "\n",
    "Operators are symbols that represent computations or operations to be performed on the operands.\n",
    "They define how the operands are manipulated to produce a result.\n",
    "Examples of operators include arithmetic operators (+, -, *, /), comparison operators (==, !=, <, >), logical operators (and, or, not), assignment operators (=, +=, -=), etc."
   ]
  },
  {
   "cell_type": "markdown",
   "metadata": {},
   "source": [
    "## Question 5\n",
    "\n",
    "Explain the difference between an expression and a statement, using examples if necessary."
   ]
  },
  {
   "cell_type": "code",
   "execution_count": 8,
   "metadata": {
    "scrolled": true
   },
   "outputs": [
    {
     "name": "stdout",
     "output_type": "stream",
     "text": [
      "Result is greater than 10\n"
     ]
    }
   ],
   "source": [
    "1.Expression:\n",
    "\n",
    "An expression is a combination of one or more operands (values or variables) and operators that can be evaluated to produce a single value.\n",
    "Expressions can be simple or complex, and they can involve arithmetic calculations, logical operations, function calls, or any combination thereof.\n",
    "Examples of expressions:\n",
    "Arithmetic expression: 3 + 5 * 2\n",
    "String concatenation: 'Hello, ' + 'world!'\n",
    "Function call: math.sqrt(25)\n",
    "Comparison: x > y\n",
    "    \n",
    "2.Statement:\n",
    "\n",
    "A statement is a complete instruction that performs an action, such as declaring a variable, assigning a value to a variable, controlling program flow with conditionals or loops, or calling a function.\n",
    "Statements are standalone units of execution in a program and typically end with a semicolon (;) in languages like C, Java, or JavaScript.\n",
    "Examples of statements:\n",
    "Variable declaration: int x;\n",
    "Assignment statement: x = 10;\n",
    "Conditional statement: if (x > 0) { /* do something */ }\n",
    "Loop statement: for (int i = 0; i < 10; i++) { /* do something */ }\n",
    "    \n",
    "# Expression example\n",
    "result = 3 + 5 * 2  # This is an expression\n",
    "\n",
    "# Statement example\n",
    "if result > 10:  # This is a statement\n",
    "    print(\"Result is greater than 10\")\n",
    "\n"
   ]
  },
  {
   "cell_type": "markdown",
   "metadata": {},
   "source": [
    "## Question 6\n",
    "After running the following code, what does the variable \"bacon\" contain?\n",
    "\n",
    "bacon = 22 <br>\n",
    "\n",
    "bacon + 1"
   ]
  },
  {
   "cell_type": "code",
   "execution_count": 1,
   "metadata": {},
   "outputs": [
    {
     "data": {
      "text/plain": [
       "23"
      ]
     },
     "execution_count": 1,
     "metadata": {},
     "output_type": "execute_result"
    }
   ],
   "source": [
    "bacon = 22\n",
    "\n",
    "bacon + 1"
   ]
  },
  {
   "cell_type": "markdown",
   "metadata": {},
   "source": [
    "## Question 7\n",
    "Determine the values of the following two terms:<br>\n",
    "'spam' + 'spamspam'<br>\n",
    "'spam' * 3\n",
    "\n"
   ]
  },
  {
   "cell_type": "code",
   "execution_count": 2,
   "metadata": {},
   "outputs": [
    {
     "data": {
      "text/plain": [
       "'spamspamspam'"
      ]
     },
     "execution_count": 2,
     "metadata": {},
     "output_type": "execute_result"
    }
   ],
   "source": [
    "'spam' + 'spamspam'\n",
    "'spam' * 3"
   ]
  },
  {
   "cell_type": "markdown",
   "metadata": {},
   "source": [
    "## Question 8\n",
    "\n",
    "Why is \"eggs\" a valid variable name while \"100\" is invalid?"
   ]
  },
  {
   "cell_type": "code",
   "execution_count": null,
   "metadata": {},
   "outputs": [],
   "source": [
    "In programming languages, including Python, variable names must adhere to certain rules and conventions. One of the primary rules regarding variable names is that they must begin with a letter (a-z or A-Z) or an underscore (_) character. After the initial character, variable names can include letters, digits (0-9), or underscores. However, they cannot begin with a digit.\n",
    "\n",
    "Now, let's analyze why \"eggs\" is a valid variable name while \"100\" is invalid based on these rules:\n",
    "\n",
    "1.\"eggs\":\n",
    "\n",
    "\"eggs\" begins with a letter ('e'), making it compliant with the rule that variable names must start with a letter or underscore.\n",
    "Following the first character, \"eggs\" consists entirely of lowercase letters, which are allowed in variable names.\n",
    "\n",
    "2.\"100\":\n",
    "\n",
    "\"100\" begins with a digit ('1'), violating the rule that variable names cannot start with a digit.\n",
    "Although \"100\" consists entirely of digits, it doesn't meet the requirement for the initial character to be a letter or underscore."
   ]
  },
  {
   "cell_type": "markdown",
   "metadata": {},
   "source": [
    "## Question 9\n",
    "\n",
    "List three functions that can be used to obtain the integer, floating-point number, or string version of a value."
   ]
  },
  {
   "cell_type": "code",
   "execution_count": 9,
   "metadata": {},
   "outputs": [
    {
     "ename": "SyntaxError",
     "evalue": "invalid decimal literal (3393353079.py, line 1)",
     "output_type": "error",
     "traceback": [
      "\u001b[1;36m  Cell \u001b[1;32mIn[9], line 1\u001b[1;36m\u001b[0m\n\u001b[1;33m    1.Integer Conversion Function:\u001b[0m\n\u001b[1;37m     ^\u001b[0m\n\u001b[1;31mSyntaxError\u001b[0m\u001b[1;31m:\u001b[0m invalid decimal literal\n"
     ]
    }
   ],
   "source": [
    "1.Integer Conversion Function:\n",
    "\n",
    "int(): This function is used to convert a value to an integer. It takes a single argument and returns the integer representation of that value.\n",
    "Example:\n",
    "num_str = \"42\"\n",
    "num_int = int(num_str)\n",
    "print(num_int)  #output: 42\n",
    "\n",
    "2.Floating-Point Conversion Function:\n",
    "\n",
    "float(): This function is used to convert a value to a floating-point number (a number with a decimal point). It takes a single argument and returns the floating-point representation of that value.\n",
    "Example:\n",
    "num_str = \"3.14\"\n",
    "num_float = float(num_str)\n",
    "print(num_float)  # Output: 3.14\n",
    "\n",
    "3.String Conversion Function:\n",
    "\n",
    "str(): This function is used to convert a value to its string representation. It takes a single argument and returns the string representation of that value.\n",
    "Example:\n",
    "num_int = 42\n",
    "num_str = str(num_int)\n",
    "print(num_str)  # Output: \"42\"\n",
    "\n",
    "\n"
   ]
  },
  {
   "cell_type": "markdown",
   "metadata": {},
   "source": [
    "## Question 10 \n",
    "Explain why the following expression causes an error and suggest how to fix it:<br>\n",
    "'I have eaten ' + 99 + ' burritos.'\n",
    "\n"
   ]
  },
  {
   "cell_type": "code",
   "execution_count": null,
   "metadata": {},
   "outputs": [],
   "source": [
    "The expression 'I have eaten ' + 99 + ' burritos.' causes an error because it attempts to concatenate a string ('I have eaten ') with an integer (99) directly. In many programming languages, including Python, concatenating a string with a non-string value (like an integer) results in a type error because the interpreter doesn't know how to combine these different data types implicitly.\n",
    "\n",
    "To fix this error, you need to ensure that all parts of the expression being concatenated are strings. You can achieve this by converting the integer 99 to a string using the str() function before concatenating it. Here's the corrected expression:\n",
    "\n",
    "'I have eaten ' + str(99) + ' burritos.'\n"
   ]
  },
  {
   "cell_type": "markdown",
   "metadata": {},
   "source": [
    "## Question 11\n",
    "Write a Python program to calculate the sum of two numbers and print the result.\n",
    "gative, or zero."
   ]
  },
  {
   "cell_type": "code",
   "execution_count": 11,
   "metadata": {},
   "outputs": [
    {
     "name": "stdout",
     "output_type": "stream",
     "text": [
      "Enter the first number: -5\n",
      "Enter the second number: -10\n",
      "The sum of -5.0 and -10.0 is: -15.0\n",
      "The result is negative.\n"
     ]
    }
   ],
   "source": [
    "def sum_of_two_numbers(num1, num2):\n",
    "    # Calculate the sum of the two numbers\n",
    "    result = num1 + num2\n",
    "    \n",
    "    # Print the result\n",
    "    print(\"The sum of\", num1, \"and\", num2, \"is:\", result)\n",
    "    \n",
    "    # Check if the result is positive, negative, or zero\n",
    "    if result > 0:\n",
    "        print(\"The result is positive.\")\n",
    "    elif result < 0:\n",
    "        print(\"The result is negative.\")\n",
    "    else:\n",
    "        print(\"The result is zero.\")\n",
    "\n",
    "\n",
    "# Input the two numbers from the user\n",
    "num1 = float(input(\"Enter the first number: \"))\n",
    "num2 = float(input(\"Enter the second number: \"))\n",
    "\n",
    "# Call the function to calculate the sum and print the result\n",
    "sum_of_two_numbers(num1, num2)\n"
   ]
  },
  {
   "cell_type": "markdown",
   "metadata": {},
   "source": [
    "## Question 12\n",
    "Create a Python program that takes the user's name as input and prints a greeting message.\n",
    "\n"
   ]
  },
  {
   "cell_type": "code",
   "execution_count": 12,
   "metadata": {},
   "outputs": [
    {
     "name": "stdout",
     "output_type": "stream",
     "text": [
      "Enter your name: sharda\n",
      "Hello, sharda! Welcome to the program.\n"
     ]
    }
   ],
   "source": [
    "def greet_user():\n",
    "    # Ask the user to input their name\n",
    "    name = input(\"Enter your name: \")\n",
    "    \n",
    "    # Print a greeting message\n",
    "    print(\"Hello, \" + name + \"! Welcome to the program.\")\n",
    "\n",
    "\n",
    "# Call the function to greet the user\n",
    "greet_user()\n"
   ]
  },
  {
   "cell_type": "markdown",
   "metadata": {},
   "source": [
    "## Question 13\n",
    "Write a Python program to calculate the area of a rectangle given its length and width. (Assume length and width are provided as inputs.)\n",
    "\n"
   ]
  },
  {
   "cell_type": "code",
   "execution_count": 13,
   "metadata": {},
   "outputs": [
    {
     "name": "stdout",
     "output_type": "stream",
     "text": [
      "Enter the length of the rectangle: 20\n",
      "Enter the width of the rectangle: 45\n",
      "The area of the rectangle with length 20.0 and width 45.0 is: 900.0\n"
     ]
    }
   ],
   "source": [
    "def calculate_rectangle_area(length, width):\n",
    "    # Calculate the area of the rectangle\n",
    "    area = length * width\n",
    "    return area\n",
    "\n",
    "\n",
    "# Input the length and width of the rectangle from the user\n",
    "length = float(input(\"Enter the length of the rectangle: \"))\n",
    "width = float(input(\"Enter the width of the rectangle: \"))\n",
    "\n",
    "# Call the function to calculate the area of the rectangle\n",
    "area = calculate_rectangle_area(length, width)\n",
    "\n",
    "# Print the calculated area\n",
    "print(\"The area of the rectangle with length\", length, \"and width\", width, \"is:\", area)\n"
   ]
  },
  {
   "cell_type": "markdown",
   "metadata": {},
   "source": [
    "## Question 14\n",
    "Create a Python program that asks the user for their age and prints out a message saying whether they are a child, teenager, or adult based on their age.\n",
    "\n"
   ]
  },
  {
   "cell_type": "code",
   "execution_count": 15,
   "metadata": {},
   "outputs": [
    {
     "name": "stdout",
     "output_type": "stream",
     "text": [
      "Enter your age: 15\n",
      "You are a teenager.\n"
     ]
    }
   ],
   "source": [
    "def check_age_category(age):\n",
    "    # Check age category based on age\n",
    "    if age < 0:\n",
    "        return \"Invalid age entered. Please enter a positive number.\"\n",
    "    elif age < 13:\n",
    "        return \"You are a child.\"\n",
    "    elif age < 20:\n",
    "        return \"You are a teenager.\"\n",
    "    else:\n",
    "        return \"You are an adult.\"\n",
    "\n",
    "\n",
    "# Input the user's age\n",
    "try:\n",
    "    age = int(input(\"Enter your age: \"))\n",
    "    # Call the function to check the age category and print the result\n",
    "    print(check_age_category(age))\n",
    "except ValueError:\n",
    "    print(\"Invalid input. Please enter a valid age as a number.\")\n"
   ]
  },
  {
   "cell_type": "markdown",
   "metadata": {},
   "source": [
    "## Question 15\n",
    "Write a Python program to convert temperature from Celsius to Fahrenheit. (Assume Celsius temperature is provided as input.)\n",
    "\n"
   ]
  },
  {
   "cell_type": "code",
   "execution_count": 16,
   "metadata": {},
   "outputs": [
    {
     "name": "stdout",
     "output_type": "stream",
     "text": [
      "Enter the temperature in Celsius: 13\n",
      "The temperature 13.0 Celsius is equal to 55.4 Fahrenheit.\n"
     ]
    }
   ],
   "source": [
    "def celsius_to_fahrenheit(celsius):\n",
    "    # Convert Celsius to Fahrenheit using the formula: F = (C × 9/5) + 32\n",
    "    fahrenheit = (celsius * 9/5) + 32\n",
    "    return fahrenheit\n",
    "\n",
    "\n",
    "# Input the temperature in Celsius from the user\n",
    "celsius = float(input(\"Enter the temperature in Celsius: \"))\n",
    "\n",
    "# Call the function to convert Celsius to Fahrenheit\n",
    "fahrenheit = celsius_to_fahrenheit(celsius)\n",
    "\n",
    "# Print the converted temperature in Fahrenheit\n",
    "print(\"The temperature\", celsius, \"Celsius is equal to\", fahrenheit, \"Fahrenheit.\")\n"
   ]
  },
  {
   "cell_type": "markdown",
   "metadata": {},
   "source": [
    "## Question 16\n",
    "Create a Python program that takes the radius of a circle as input and calculates its area. (Assume the value of pi is 3.14.)\n",
    "\n"
   ]
  },
  {
   "cell_type": "code",
   "execution_count": 17,
   "metadata": {},
   "outputs": [
    {
     "name": "stdout",
     "output_type": "stream",
     "text": [
      "Enter the radius of the circle: 41\n",
      "The area of the circle with radius 41.0 is: 5278.34\n"
     ]
    }
   ],
   "source": [
    "def calculate_circle_area(radius):\n",
    "    # Calculate the area of the circle using the formula: A = πr^2\n",
    "    area = 3.14 * radius ** 2\n",
    "    return area\n",
    "\n",
    "\n",
    "# Input the radius of the circle from the user\n",
    "radius = float(input(\"Enter the radius of the circle: \"))\n",
    "\n",
    "# Call the function to calculate the area of the circle\n",
    "area = calculate_circle_area(radius)\n",
    "\n",
    "# Print the calculated area of the circle\n",
    "print(\"The area of the circle with radius\", radius, \"is:\", area)\n"
   ]
  },
  {
   "cell_type": "markdown",
   "metadata": {},
   "source": [
    "## Question 17\n",
    "Write a Python program to find the maximum of two numbers entered by the user.\n",
    "\n"
   ]
  },
  {
   "cell_type": "code",
   "execution_count": 19,
   "metadata": {},
   "outputs": [
    {
     "name": "stdout",
     "output_type": "stream",
     "text": [
      "Enter the first number: 15.7\n",
      "Enter the second number: 15.2\n",
      "The maximum of 15.7 and 15.2 is: 15.7\n"
     ]
    }
   ],
   "source": [
    "def find_maximum(num1, num2):\n",
    "    # Find the maximum of the two numbers\n",
    "    maximum = max(num1, num2)\n",
    "    return maximum\n",
    "\n",
    "\n",
    "# Input the two numbers from the user\n",
    "num1 = float(input(\"Enter the first number: \"))\n",
    "num2 = float(input(\"Enter the second number: \"))\n",
    "\n",
    "# Call the function to find the maximum of the two numbers\n",
    "maximum = find_maximum(num1, num2)\n",
    "\n",
    "# Print the maximum of the two numbers\n",
    "print(\"The maximum of\", num1, \"and\", num2, \"is:\", maximum)\n",
    "\n"
   ]
  },
  {
   "cell_type": "markdown",
   "metadata": {},
   "source": [
    "## Question 18\n",
    "Create a Python program that asks the user to enter two numbers and prints out their product.\n",
    "\n"
   ]
  },
  {
   "cell_type": "code",
   "execution_count": 20,
   "metadata": {},
   "outputs": [
    {
     "name": "stdout",
     "output_type": "stream",
     "text": [
      "Enter the first number: 71.5\n",
      "Enter the second number: 62.2\n",
      "The product of 71.5 and 62.2 is: 4447.3\n"
     ]
    }
   ],
   "source": [
    "# Prompt the user to input two numbers\n",
    "num1 = float(input(\"Enter the first number: \"))\n",
    "num2 = float(input(\"Enter the second number: \"))\n",
    "\n",
    "# Calculate the product of the two numbers\n",
    "product = num1 * num2\n",
    "\n",
    "# Print out the product\n",
    "print(\"The product of\", num1, \"and\", num2, \"is:\", product)\n"
   ]
  },
  {
   "cell_type": "markdown",
   "metadata": {},
   "source": [
    "## Question 19\n",
    "Write a Python program that prompts the user to enter a number and then prints whether the number is positive, negative, or zero."
   ]
  },
  {
   "cell_type": "code",
   "execution_count": 22,
   "metadata": {},
   "outputs": [
    {
     "name": "stdout",
     "output_type": "stream",
     "text": [
      "Enter a number: -12.6\n",
      "The number entered is negative.\n"
     ]
    }
   ],
   "source": [
    "# Prompt the user to input a number\n",
    "number = float(input(\"Enter a number: \"))\n",
    "\n",
    "# Check if the number is positive, negative, or zero\n",
    "if number > 0:\n",
    "    print(\"The number entered is positive.\")\n",
    "elif number < 0:\n",
    "    print(\"The number entered is negative.\")\n",
    "else:\n",
    "    print(\"The number entered is zero.\")\n"
   ]
  },
  {
   "cell_type": "code",
   "execution_count": null,
   "metadata": {},
   "outputs": [],
   "source": []
  }
 ],
 "metadata": {
  "anaconda-cloud": {},
  "kernelspec": {
   "display_name": "Python 3 (ipykernel)",
   "language": "python",
   "name": "python3"
  },
  "language_info": {
   "codemirror_mode": {
    "name": "ipython",
    "version": 3
   },
   "file_extension": ".py",
   "mimetype": "text/x-python",
   "name": "python",
   "nbconvert_exporter": "python",
   "pygments_lexer": "ipython3",
   "version": "3.11.5"
  }
 },
 "nbformat": 4,
 "nbformat_minor": 4
}
